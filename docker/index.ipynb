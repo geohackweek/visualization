{
 "cells": [
  {
   "cell_type": "markdown",
   "metadata": {},
   "source": [
    "# Index of notebooks for the visualization tutorial\n",
    "\n",
    "- [Crescent_City_inundation.ipynb](Crescent_City_inundation.ipynb)\n",
    "\n",
    "  - Python code to read in a `.asc` file that contains data from a tsunami simulation.\n",
    "  - Plotting the data using [matplotlib](http://matplotlib.org/), contour plots, filled contours, pcolor plots.\n",
    "  - Using masked arrays to selectively plot part of the data.\n",
    "  - Adjusting various plotting parameters and colormaps.\n",
    "\n",
    "<p>\n",
    "- [Map projection](basemapProjections.ipynb)\n",
    "  \n",
    "  - Change basemaps \n",
    "  - PSA for map projections - be aware of distortion\n",
    "   \n",
    "\n",
    "<p>\n",
    "- [Chile2010_tsunami.ipynb](Chile2010_tsunami.ipynb) \n",
    "\n",
    "  - Plotting a time frame from a tsunami simulation on the sphere.   \n",
    "  - Creating an animation from several time frames.\n",
    "\n",
    "<p>\n",
    "- [Chile2010_kml.ipynb](Chile2010_kml.ipynb) \n",
    "\n",
    "  - Creating a plot in `matplotlib` that can overlaid on Google Earth, Cesium, etc.\n",
    "  - Using `pykml` to create a kml wrapper for the image.\n",
    "  - Viewing in a notebook with [cesiumpy](https://pypi.python.org/pypi/cesiumpy).\n",
    "\n",
    "<p>\n",
    "  \n",
    "- More about Cesium, and Data shader\n",
    "  - Working with large amounts of points data. [geoHackWeek_DataShader_Example.ipynb](geoHackWeek_DataShader_Example.ipynb)"
   ]
  },
  {
   "cell_type": "code",
   "execution_count": null,
   "metadata": {
    "collapsed": true
   },
   "outputs": [],
   "source": []
  }
 ],
 "metadata": {
  "kernelspec": {
   "display_name": "Python 2",
   "language": "python",
   "name": "python2"
  },
  "language_info": {
   "codemirror_mode": {
    "name": "ipython",
    "version": 2
   },
   "file_extension": ".py",
   "mimetype": "text/x-python",
   "name": "python",
   "nbconvert_exporter": "python",
   "pygments_lexer": "ipython2",
   "version": "2.7.12"
  }
 },
 "nbformat": 4,
 "nbformat_minor": 0
}
