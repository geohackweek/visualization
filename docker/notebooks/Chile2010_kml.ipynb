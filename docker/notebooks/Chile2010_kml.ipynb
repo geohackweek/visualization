{
 "cells": [
  {
   "cell_type": "markdown",
   "metadata": {},
   "source": [
    "# Creating a kml file for the Chile 2010 Tsunami propagation example\n",
    "\n",
    "This notebook uses the same data as in [Chile2010_tsunami.ipynb](Chile2010_tsunami.ipynb), and illustrates how to turn a plot of the tsunami elevation into a kml file that can be viewed interactively, e.g. with Google Earth or Cesium."
   ]
  },
  {
   "cell_type": "code",
   "execution_count": 10,
   "metadata": {
    "collapsed": true
   },
   "outputs": [],
   "source": [
    "%matplotlib inline"
   ]
  },
  {
   "cell_type": "code",
   "execution_count": 11,
   "metadata": {
    "collapsed": true
   },
   "outputs": [],
   "source": [
    "import numpy as np\n",
    "import matplotlib.pyplot as plt\n",
    "from numpy import ma # masked arrays\n",
    "from __future__ import print_function\n",
    "from data_tools import read_asc_file\n",
    "\n",
    "topo_file = '../geoclaw_output/chile2010/topo.asc'\n",
    "topo_data_dict = read_asc_file(topo_file, verbose = False)\n",
    "\n",
    "X = topo_data_dict['X']\n",
    "Y = topo_data_dict['Y']\n",
    "topo = topo_data_dict['values']"
   ]
  },
  {
   "cell_type": "code",
   "execution_count": 12,
   "metadata": {
    "collapsed": false
   },
   "outputs": [
    {
     "name": "stdout",
     "output_type": "stream",
     "text": [
      "The data is at the following times (in hours after the earthquake):\n",
      "    [ 0.   0.5  1.   1.5  2.   2.5  3.   3.5  4.   4.5  5.   5.5]\n"
     ]
    }
   ],
   "source": [
    "frame_times = np.linspace(0,5.5,12)\n",
    "print(\"The data is at the following times (in hours after the earthquake):\\n   \", frame_times)"
   ]
  },
  {
   "cell_type": "markdown",
   "metadata": {},
   "source": [
    "First experiment with one time frame:"
   ]
  },
  {
   "cell_type": "code",
   "execution_count": 13,
   "metadata": {
    "collapsed": false
   },
   "outputs": [
    {
     "name": "stdout",
     "output_type": "stream",
     "text": [
      "Reading file ../geoclaw_output/chile2010/eta_0009.asc\n",
      "Tsunami simulation at time  4.5 hours after quake\n",
      "\n"
     ]
    }
   ],
   "source": [
    "frameno = 9\n",
    "filename = 'eta_%s.asc' % str(frameno).zfill(4)  # pads with zeros to fill 4 characters\n",
    "eta_file = '../geoclaw_output/chile2010/%s' % filename\n",
    "print('Reading file %s\\nTsunami simulation at time %4.1f hours after quake\\n' \\\n",
    "    % (eta_file, frame_times[frameno]))\n",
    "eta_data_dict = read_asc_file(eta_file, verbose=False)\n",
    "Eta = eta_data_dict['values']"
   ]
  },
  {
   "cell_type": "markdown",
   "metadata": {},
   "source": [
    "Mask Eta on shore to only show ocean surface:"
   ]
  },
  {
   "cell_type": "code",
   "execution_count": 14,
   "metadata": {
    "collapsed": false
   },
   "outputs": [],
   "source": [
    "Eta_offshore = ma.masked_where(topo>0, Eta)"
   ]
  },
  {
   "cell_type": "markdown",
   "metadata": {},
   "source": [
    "We can choose a colormap and breakpoints.\n",
    "\n",
    "Note that we set the colors to also contain a transparency alpha, so the elements of the list have the form [R,G,B,alpha].  We set `alpha = 0` for the range between `-0.05` and `0.05` so that the flat surface does not get colored at all, and to the value `alpha_wave` where the tsunami height is larger."
   ]
  },
  {
   "cell_type": "code",
   "execution_count": 15,
   "metadata": {
    "collapsed": true
   },
   "outputs": [],
   "source": [
    "alpha_wave = 0.5\n",
    "eta_colors_alpha = [[0,0,1,alpha_wave], [.5,.5,1,alpha_wave], \\\n",
    "                    [0,1,1,0], [1,.5,.5,alpha_wave], [1,0,0,alpha_wave]]\n",
    "eta_levels = [-0.5,-0.1,-0.05,0.05,0.1,0.5]"
   ]
  },
  {
   "cell_type": "markdown",
   "metadata": {},
   "source": [
    "## Create image suitable for displaying in kml file"
   ]
  },
  {
   "cell_type": "code",
   "execution_count": 16,
   "metadata": {
    "collapsed": false
   },
   "outputs": [
    {
     "data": {
      "image/png": "[encoded data removed]",
      "text/plain": [
       "<matplotlib.figure.Figure at 0x10d303e90>"
      ]
     },
     "metadata": {},
     "output_type": "display_data"
    }
   ],
   "source": [
    "fig = plt.figure(figsize=(5,5))    # Figure is square\n",
    "\n",
    "fname = 'chile'\n",
    "\n",
    "plt.contourf(X,Y,Eta_offshore, eta_levels, colors=eta_colors_alpha, \\\n",
    "              extend='both')\n",
    "\n",
    "fig.patch.set_alpha(0)\n",
    "a = fig.gca()\n",
    "a.set_position([0.,0.,1.0,1.0])\n",
    "a.set_frame_on(False)\n",
    "a.set_xticks([])\n",
    "a.set_yticks([])\n",
    "plt.axis('off')\n",
    "\n",
    "kml_dpi = None\n",
    "plt.savefig(fname + '.png', transparent=True, bbox_inches='tight', \\\n",
    "                    pad_inches=0,dpi=kml_dpi)\n",
    "\n"
   ]
  },
  {
   "cell_type": "markdown",
   "metadata": {},
   "source": [
    "## Create kml file showing this image"
   ]
  },
  {
   "cell_type": "code",
   "execution_count": 17,
   "metadata": {
    "collapsed": false
   },
   "outputs": [
    {
     "name": "stdout",
     "output_type": "stream",
     "text": [
      "Created chile.kml containing....\n",
      "\n",
      "<kml xmlns:gx=\"http://www.google.com/kml/ext/2.2\" xmlns:atom=\"http://www.w3.org/2005/Atom\" xmlns=\"http://www.opengis.net/kml/2.2\">\n",
      "  <Document>\n",
      "    <Folder>\n",
      "      <GroundOverlay>\n",
      "        <Icon>\n",
      "          <href>chile.png</href>\n",
      "        </Icon>\n",
      "        <LatLonBox>\n",
      "          <north>0.0</north>\n",
      "          <south>-60</south>\n",
      "          <east>-60</east>\n",
      "          <west>-120</west>\n",
      "        </LatLonBox>\n",
      "      </GroundOverlay>\n",
      "    </Folder>\n",
      "  </Document>\n",
      "</kml>\n",
      "\n"
     ]
    }
   ],
   "source": [
    "from lxml import etree\n",
    "from pykml.factory import KML_ElementMaker as KML\n",
    "\n",
    "# Latlong box\n",
    "x1 = -120   # east\n",
    "x2 = -60    # west\n",
    "y1 = -60    # south\n",
    "y2 = 0.0    # north\n",
    "\n",
    "# Create KML file using pyKML\n",
    "doc = KML.kml(KML.Document())\n",
    "doc.Document.append(KML.Folder(\n",
    "          KML.GroundOverlay(KML.Icon(\n",
    "                                KML.href(fname + '.png')),\n",
    "                            KML.LatLonBox(\n",
    "                                KML.north(y2),\n",
    "                                KML.south(y1),\n",
    "                                KML.east(x2),\n",
    "                                KML.west(x1)))))\n",
    "\n",
    "# doc.Document.Folder.append(go)\n",
    "docfilename = \"%s.kml\" % fname\n",
    "docfile = open(docfilename,'w')\n",
    "docfile.write('<?xml version=\"1.0\" encoding=\"UTF-8\"?>\\n')\n",
    "kml_text = etree.tostring(etree.ElementTree(doc),pretty_print=True).decode('utf8')\n",
    "docfile.write(kml_text)\n",
    "docfile.close()\n",
    "\n",
    "print(\"Created %s containing....\\n\" % docfilename)\n",
    "print(kml_text)"
   ]
  },
  {
   "cell_type": "markdown",
   "metadata": {},
   "source": [
    "This kml file can be opened in Google Earth or other tools that support kml files.\n",
    "\n",
    "### Cesium\n",
    "\n",
    "Here we open it using [cesiumpy](https://pypi.python.org/pypi/cesiumpy), a Python wrapper for [cesium.js](http://cesiumjs.org/)."
   ]
  },
  {
   "cell_type": "code",
   "execution_count": null,
   "metadata": {
    "collapsed": false
   },
   "outputs": [],
   "source": [
    "import cesiumpy\n",
    "ds = cesiumpy.KmlDataSource('chile.kml')\n",
    "v = cesiumpy.Viewer()\n",
    "v.dataSources.add(ds)\n",
    "v"
   ]
  }
 ],
 "metadata": {
  "kernelspec": {
   "display_name": "Python 2",
   "language": "python",
   "name": "python2"
  },
  "language_info": {
   "codemirror_mode": {
    "name": "ipython",
    "version": 2
   },
   "file_extension": ".py",
   "mimetype": "text/x-python",
   "name": "python",
   "nbconvert_exporter": "python",
   "pygments_lexer": "ipython2",
   "version": "2.7.11"
  },
  "widgets": {
   "state": {},
   "version": "1.1.2"
  }
 },
 "nbformat": 4,
 "nbformat_minor": 0
}
